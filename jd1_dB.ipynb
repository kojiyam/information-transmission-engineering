{
  "nbformat": 4,
  "nbformat_minor": 0,
  "metadata": {
    "colab": {
      "provenance": [],
      "collapsed_sections": [],
      "authorship_tag": "ABX9TyPSobec69rZgsJtSQWIrTKx",
      "include_colab_link": true
    },
    "kernelspec": {
      "name": "python3",
      "display_name": "Python 3"
    }
  },
  "cells": [
    {
      "cell_type": "markdown",
      "metadata": {
        "id": "view-in-github",
        "colab_type": "text"
      },
      "source": [
        "<a href=\"https://colab.research.google.com/github/kojiyam/information-transmission-engineering/blob/main/jd1_dB.ipynb\" target=\"_parent\"><img src=\"https://colab.research.google.com/assets/colab-badge.svg\" alt=\"Open In Colab\"/></a>"
      ]
    },
    {
      "cell_type": "markdown",
      "metadata": {
        "id": "PpWRoiNqfa_b"
      },
      "source": [
        "# デシベル\n",
        "\n",
        "実行: Shift+Enter"
      ]
    },
    {
      "cell_type": "code",
      "metadata": {
        "id": "IzyiLYT9e8tq"
      },
      "source": [
        "import numpy as np\n",
        "np.random.seed(1) # 乱数のseedは固定\n",
        "\n",
        "#import matplotlib.pyplot as plt\n",
        "#plt.style.use('dark_background') # for dark-mode\n",
        "#plt.rcParams[\"font.size\"] = 16"
      ],
      "execution_count": 1,
      "outputs": []
    },
    {
      "cell_type": "code",
      "metadata": {
        "id": "K7O2Bs1VfTMY",
        "colab": {
          "base_uri": "https://localhost:8080/"
        },
        "outputId": "e7ae2b2b-7549-40f2-d8b4-c366b57e2df7"
      },
      "source": [
        "10*np.log10(2)"
      ],
      "execution_count": 2,
      "outputs": [
        {
          "output_type": "execute_result",
          "data": {
            "text/plain": [
              "3.010299956639812"
            ]
          },
          "metadata": {},
          "execution_count": 2
        }
      ]
    },
    {
      "cell_type": "code",
      "metadata": {
        "id": "e189GZ5kfVpk",
        "colab": {
          "base_uri": "https://localhost:8080/"
        },
        "outputId": "21000f83-245e-4488-c6c7-f06f2dd57e18"
      },
      "source": [
        "x = np.array([1,2,4,5,8,10,20,100])\n",
        "print(x)"
      ],
      "execution_count": 3,
      "outputs": [
        {
          "output_type": "stream",
          "name": "stdout",
          "text": [
            "[  1   2   4   5   8  10  20 100]\n"
          ]
        }
      ]
    },
    {
      "cell_type": "code",
      "metadata": {
        "id": "EQDCPOtnfqlr",
        "colab": {
          "base_uri": "https://localhost:8080/"
        },
        "outputId": "e2799626-510e-446d-d401-dce42e8449a7"
      },
      "source": [
        "np.set_printoptions(precision=8) # デフォルトの小数点以下の表示桁数\n",
        "print( 10*np.log10(x) )"
      ],
      "execution_count": 4,
      "outputs": [
        {
          "output_type": "stream",
          "name": "stdout",
          "text": [
            "[ 0.          3.01029996  6.02059991  6.98970004  9.03089987 10.\n",
            " 13.01029996 20.        ]\n"
          ]
        }
      ]
    },
    {
      "cell_type": "code",
      "metadata": {
        "id": "egfx0f9BfuqL",
        "colab": {
          "base_uri": "https://localhost:8080/"
        },
        "outputId": "0b5ca028-1f84-4bc9-e4b9-222a1e672e20"
      },
      "source": [
        "np.set_printoptions(precision=0)\n",
        "print( 10*np.log10(x) )"
      ],
      "execution_count": 5,
      "outputs": [
        {
          "output_type": "stream",
          "name": "stdout",
          "text": [
            "[ 0.  3.  6.  7.  9. 10. 13. 20.]\n"
          ]
        }
      ]
    },
    {
      "cell_type": "markdown",
      "metadata": {
        "id": "iF4sc0qwhgL-"
      },
      "source": [
        "## リニアスケールに戻す\n",
        "\n",
        "$10^{(x)_\\mathrm{dB}/10}$"
      ]
    },
    {
      "cell_type": "code",
      "metadata": {
        "id": "jIjPvoqggbrm",
        "colab": {
          "base_uri": "https://localhost:8080/"
        },
        "outputId": "e0301412-b0d7-4945-bafd-3757830a1c26"
      },
      "source": [
        "x_dB = np.array([12,13,17,20])\n",
        "print( 10**(x_dB/10) )"
      ],
      "execution_count": 6,
      "outputs": [
        {
          "output_type": "stream",
          "name": "stdout",
          "text": [
            "[ 16.  20.  50. 100.]\n"
          ]
        }
      ]
    }
  ]
}