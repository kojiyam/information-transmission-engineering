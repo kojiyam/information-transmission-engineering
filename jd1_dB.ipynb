{
  "nbformat": 4,
  "nbformat_minor": 0,
  "metadata": {
    "colab": {
      "name": "jd1-dB.ipynb",
      "provenance": [],
      "collapsed_sections": [],
      "authorship_tag": "ABX9TyMq4IY1Vi6Kfd2uQ29pXce9",
      "include_colab_link": true
    },
    "kernelspec": {
      "name": "python3",
      "display_name": "Python 3"
    }
  },
  "cells": [
    {
      "cell_type": "markdown",
      "metadata": {
        "id": "view-in-github",
        "colab_type": "text"
      },
      "source": [
        "<a href=\"https://colab.research.google.com/github/kojiyam/information-transmission-engineering/blob/main/jd1_dB.ipynb\" target=\"_parent\"><img src=\"https://colab.research.google.com/assets/colab-badge.svg\" alt=\"Open In Colab\"/></a>"
      ]
    },
    {
      "cell_type": "markdown",
      "metadata": {
        "id": "PpWRoiNqfa_b"
      },
      "source": [
        "# デシベル\n",
        "\n",
        "実行: Shift+Enter"
      ]
    },
    {
      "cell_type": "code",
      "metadata": {
        "id": "IzyiLYT9e8tq"
      },
      "source": [
        "import numpy as np\n",
        "np.random.seed(1) # 乱数のseedは固定\n",
        "\n",
        "#import matplotlib.pyplot as plt\n",
        "#plt.style.use('dark_background') # for dark-mode\n",
        "#plt.rcParams[\"font.size\"] = 16"
      ],
      "execution_count": 2,
      "outputs": []
    },
    {
      "cell_type": "code",
      "metadata": {
        "id": "K7O2Bs1VfTMY",
        "colab": {
          "base_uri": "https://localhost:8080/"
        },
        "outputId": "6762b3e6-71fc-4b79-b218-6f6ded1a2c0e"
      },
      "source": [
        "10*np.log10(2)"
      ],
      "execution_count": 3,
      "outputs": [
        {
          "output_type": "execute_result",
          "data": {
            "text/plain": [
              "3.010299956639812"
            ]
          },
          "metadata": {
            "tags": []
          },
          "execution_count": 3
        }
      ]
    },
    {
      "cell_type": "code",
      "metadata": {
        "id": "e189GZ5kfVpk",
        "colab": {
          "base_uri": "https://localhost:8080/"
        },
        "outputId": "d5526eef-b3a9-4a00-f3a5-48cac1138f31"
      },
      "source": [
        "x = np.array([1,2,4,5,8,10,20,100])\n",
        "print(x)"
      ],
      "execution_count": 6,
      "outputs": [
        {
          "output_type": "stream",
          "text": [
            "[  1   2   4   5   8  10  20 100]\n"
          ],
          "name": "stdout"
        }
      ]
    },
    {
      "cell_type": "code",
      "metadata": {
        "id": "EQDCPOtnfqlr",
        "colab": {
          "base_uri": "https://localhost:8080/"
        },
        "outputId": "798d2ca5-0f05-46d3-8e42-fba411abf5b4"
      },
      "source": [
        "np.set_printoptions(precision=8) # デフォルトの小数点以下の表示桁数\n",
        "print( 10*np.log10(x) )"
      ],
      "execution_count": 8,
      "outputs": [
        {
          "output_type": "stream",
          "text": [
            "[ 0.          3.01029996  6.02059991  6.98970004  9.03089987 10.\n",
            " 13.01029996 20.        ]\n"
          ],
          "name": "stdout"
        }
      ]
    },
    {
      "cell_type": "code",
      "metadata": {
        "id": "egfx0f9BfuqL",
        "colab": {
          "base_uri": "https://localhost:8080/"
        },
        "outputId": "f4f09699-820b-4d01-af0c-5d50b8a030b3"
      },
      "source": [
        "np.set_printoptions(precision=0)\n",
        "print( 10*np.log10(x) )"
      ],
      "execution_count": 9,
      "outputs": [
        {
          "output_type": "stream",
          "text": [
            "[ 0.  3.  6.  7.  9. 10. 13. 20.]\n"
          ],
          "name": "stdout"
        }
      ]
    },
    {
      "cell_type": "markdown",
      "metadata": {
        "id": "iF4sc0qwhgL-"
      },
      "source": [
        "## リニアスケールに戻す\n",
        "\n",
        "$10^{(x)_\\mathrm{dB}/10}$"
      ]
    },
    {
      "cell_type": "code",
      "metadata": {
        "id": "jIjPvoqggbrm",
        "colab": {
          "base_uri": "https://localhost:8080/"
        },
        "outputId": "8eceb13b-b702-4bf5-d096-5847a36fdf14"
      },
      "source": [
        "x_dB = np.array([13,17,20])\n",
        "print( 10**(x_dB/10) )"
      ],
      "execution_count": 11,
      "outputs": [
        {
          "output_type": "stream",
          "text": [
            "[ 20.  50. 100.]\n"
          ],
          "name": "stdout"
        }
      ]
    }
  ]
}