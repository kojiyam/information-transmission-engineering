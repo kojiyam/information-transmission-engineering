{
  "nbformat": 4,
  "nbformat_minor": 0,
  "metadata": {
    "colab": {
      "name": "jd2-log-series.ipynb",
      "provenance": [],
      "collapsed_sections": [],
      "authorship_tag": "ABX9TyNb8ckdZEpvt6ZvSQvks8++",
      "include_colab_link": true
    },
    "kernelspec": {
      "name": "python3",
      "display_name": "Python 3"
    }
  },
  "cells": [
    {
      "cell_type": "markdown",
      "metadata": {
        "id": "view-in-github",
        "colab_type": "text"
      },
      "source": [
        "<a href=\"https://colab.research.google.com/github/kojiyam/information-transmission-engineering/blob/main/jd2_log_series.ipynb\" target=\"_parent\"><img src=\"https://colab.research.google.com/assets/colab-badge.svg\" alt=\"Open In Colab\"/></a>"
      ]
    },
    {
      "cell_type": "markdown",
      "metadata": {
        "id": "nZLU_BYJh7sg"
      },
      "source": [
        "# $ \\log(1+x) $ のテーラー展開\n",
        "\n",
        "WolframAlphaで `taylor series log(1+x)` の方が簡単と思われる"
      ]
    },
    {
      "cell_type": "code",
      "metadata": {
        "id": "JqD7pp1QYu2e"
      },
      "source": [
        "from sympy import *\n",
        "from sympy.abc import x\n",
        "init_printing()"
      ],
      "execution_count": 1,
      "outputs": []
    },
    {
      "cell_type": "code",
      "metadata": {
        "id": "zhTpMxyXY758",
        "colab": {
          "base_uri": "https://localhost:8080/",
          "height": 40
        },
        "outputId": "c31849d5-db80-4d17-cdbe-8422f3cf3ca8"
      },
      "source": [
        "series(log(1+x), x)"
      ],
      "execution_count": 2,
      "outputs": [
        {
          "output_type": "execute_result",
          "data": {
            "image/png": "[encoded data removed]",
            "text/latex": "$$x - \\frac{x^{2}}{2} + \\frac{x^{3}}{3} - \\frac{x^{4}}{4} + \\frac{x^{5}}{5} + \\mathcal{O}\\left(x^{6}\\right)$$",
            "text/plain": [
              "     2    3    4    5        \n",
              "    x    x    x    x     ⎛ 6⎞\n",
              "x - ── + ── - ── + ── + O⎝x ⎠\n",
              "    2    3    4    5         "
            ]
          },
          "metadata": {
            "tags": []
          },
          "execution_count": 2
        }
      ]
    }
  ]
}